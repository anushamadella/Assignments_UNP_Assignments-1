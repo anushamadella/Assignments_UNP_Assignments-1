{
  "nbformat": 4,
  "nbformat_minor": 0,
  "metadata": {
    "colab": {
      "name": "ex2.ipynb",
      "provenance": [],
      "authorship_tag": "ABX9TyNsHUl1YkaaXfDNzPaoJotX",
      "include_colab_link": true
    },
    "kernelspec": {
      "name": "python3",
      "display_name": "Python 3"
    },
    "language_info": {
      "name": "python"
    }
  },
  "cells": [
    {
      "cell_type": "markdown",
      "metadata": {
        "id": "view-in-github",
        "colab_type": "text"
      },
      "source": [
        "<a href=\"https://colab.research.google.com/github/anushamadella/Assignments_UNP_EX1-AND-EX2/blob/main/ex2.ipynb\" target=\"_parent\"><img src=\"https://colab.research.google.com/assets/colab-badge.svg\" alt=\"Open In Colab\"/></a>"
      ]
    },
    {
      "cell_type": "markdown",
      "metadata": {
        "id": "WWNTQ7Y4nnHt"
      },
      "source": [
        "**1.Complete the body of the following function according to its docstring.**"
      ]
    },
    {
      "cell_type": "code",
      "metadata": {
        "colab": {
          "base_uri": "https://localhost:8080/"
        },
        "id": "rfiGdXGiniXr",
        "outputId": "cf62b3d8-af58-4a89-bc16-10e4884c7aeb"
      },
      "source": [
        "def round_to_two_places(num):\n",
        "    \"\"\"Return the given number rounded to two decimal places. \n",
        "    \n",
        "    >>> round_to_two_places(3.14159)\n",
        "    3.14\n",
        "    \"\"\"\n",
        "    a=round(num, 2)\n",
        "    return(a)\n",
        "    \n",
        "round_to_two_places(3.56389)"
      ],
      "execution_count": 8,
      "outputs": [
        {
          "output_type": "execute_result",
          "data": {
            "text/plain": [
              "3.56"
            ]
          },
          "metadata": {},
          "execution_count": 8
        }
      ]
    },
    {
      "cell_type": "markdown",
      "metadata": {
        "id": "CgQKpFkgrK_m"
      },
      "source": [
        "**2.\n",
        "The help for round says that ndigits (the second argument) may be negative. What do you think will happen when it is? Try some examples in the following cell?**"
      ]
    },
    {
      "cell_type": "code",
      "metadata": {
        "colab": {
          "base_uri": "https://localhost:8080/"
        },
        "id": "XRbWWsQoqEKC",
        "outputId": "3de81e3a-e84c-4abd-a602-31761c2af4d5"
      },
      "source": [
        "b=round(1234.56789, -1)\n",
        "print(b)"
      ],
      "execution_count": 27,
      "outputs": [
        {
          "output_type": "stream",
          "name": "stdout",
          "text": [
            "1230.0\n"
          ]
        }
      ]
    },
    {
      "cell_type": "code",
      "metadata": {
        "colab": {
          "base_uri": "https://localhost:8080/"
        },
        "id": "WaFuDsD8rbiy",
        "outputId": "91e9e064-f6b1-4d54-bfc7-6d8589b8a062"
      },
      "source": [
        "b=round(1234.56789, -2)\n",
        "print(b)"
      ],
      "execution_count": 28,
      "outputs": [
        {
          "output_type": "stream",
          "name": "stdout",
          "text": [
            "1200.0\n"
          ]
        }
      ]
    },
    {
      "cell_type": "code",
      "metadata": {
        "colab": {
          "base_uri": "https://localhost:8080/"
        },
        "id": "iEMK1FA9sKx-",
        "outputId": "16703456-b1c7-48a5-cba4-ea44ffd4ca1d"
      },
      "source": [
        "b=round(1234.56789, -4)\n",
        "print(b)"
      ],
      "execution_count": 29,
      "outputs": [
        {
          "output_type": "stream",
          "name": "stdout",
          "text": [
            "0.0\n"
          ]
        }
      ]
    },
    {
      "cell_type": "markdown",
      "metadata": {
        "id": "eRR74FlYsZk7"
      },
      "source": [
        "**3.In a previous programming problem, the candy-sharing friends Alice, Bob and Carol tried to split candies evenly. For the sake of their friendship, any candies left over would be smashed. For example, if they collectively bring home 91 candies, they'll take 30 each and smash 1.\n",
        "Below is a simple function that will calculate the number of candies to smash for any number of total candies.\n",
        "Modify it so that it optionally takes a second argument representing the number of friends the candies are being split between. If no second argument is provided, it should assume 3 friends, as before.\n",
        "Update the docstring to reflect this new behaviour.**"
      ]
    },
    {
      "cell_type": "code",
      "metadata": {
        "colab": {
          "base_uri": "https://localhost:8080/"
        },
        "id": "PZGynsVQsN7U",
        "outputId": "92eb9565-efb6-4f64-94f8-98f547c974f6"
      },
      "source": [
        "def to_smash(total_candies,n_friends=3):\n",
        "    \"\"\"Return the number of leftover candies that must be smashed after distributing\n",
        "    the given number of candies evenly between n friends.\n",
        "    \n",
        "    >>> to_smash(91)\n",
        "    1\n",
        "    \"\"\"\n",
        "    return total_candies % n_friends\n",
        "to_smash(85)"
      ],
      "execution_count": 32,
      "outputs": [
        {
          "output_type": "execute_result",
          "data": {
            "text/plain": [
              "1"
            ]
          },
          "metadata": {},
          "execution_count": 32
        }
      ]
    },
    {
      "cell_type": "markdown",
      "metadata": {
        "id": "3DQx2Trct1eP"
      },
      "source": [
        "**4. (Optional)\n",
        "It may not be fun, but reading and understanding error messages will be an important part of your Python career.\n",
        "Each code cell below contains some commented-out buggy code. For each cell...\n",
        "Read the code and predict what you think will happen when it's run.\n",
        "Then uncomment the code and run it to see what happens. (Tip: In the kernel editor, you can highlight several lines and press ctrl+/ to toggle commenting.)\n",
        "Fix the code (so that it accomplishes its intended purpose without throwing an exception)**"
      ]
    },
    {
      "cell_type": "code",
      "metadata": {
        "colab": {
          "base_uri": "https://localhost:8080/"
        },
        "id": "6uD-irAetqsn",
        "outputId": "a2df095b-08d4-4148-812a-297159f72e02"
      },
      "source": [
        "# ruound_to_two_places(9.9999)\n",
        "# function not defined\n",
        "round_to_two_places(9.9999)"
      ],
      "execution_count": 33,
      "outputs": [
        {
          "output_type": "execute_result",
          "data": {
            "text/plain": [
              "10.0"
            ]
          },
          "metadata": {},
          "execution_count": 33
        }
      ]
    },
    {
      "cell_type": "code",
      "metadata": {
        "colab": {
          "base_uri": "https://localhost:8080/"
        },
        "id": "vDi2yjBqub_f",
        "outputId": "35c7b44b-ebbc-4cc4-eec0-699b1bca7d3d"
      },
      "source": [
        " x = -10\n",
        " y = 5\n",
        "# # Which of the two variables above has the smallest absolute value?\n",
        "# smallest_abs = min(abs(x, y))\n",
        "#abs takes single argument\n",
        "x=abs(x)\n",
        "smallest_abs=min(x,y)\n",
        "smallest_abs"
      ],
      "execution_count": 36,
      "outputs": [
        {
          "output_type": "execute_result",
          "data": {
            "text/plain": [
              "5"
            ]
          },
          "metadata": {},
          "execution_count": 36
        }
      ]
    },
    {
      "cell_type": "code",
      "metadata": {
        "colab": {
          "base_uri": "https://localhost:8080/"
        },
        "id": "qUB9YL3BvInJ",
        "outputId": "4b8910e1-2c9b-49ba-f4df-88e2909e7d93"
      },
      "source": [
        " # def f(x):\n",
        "#     y = abs(x)\n",
        "# return y\n",
        "\n",
        "# print(f(5))\n",
        "#return outside the function\n",
        "def f(x):\n",
        "  y=abs(x)\n",
        "  return y\n",
        "print(f(5))"
      ],
      "execution_count": 38,
      "outputs": [
        {
          "output_type": "stream",
          "name": "stdout",
          "text": [
            "5\n"
          ]
        }
      ]
    },
    {
      "cell_type": "code",
      "metadata": {
        "id": "gNARlmJBviW-"
      },
      "source": [
        ""
      ],
      "execution_count": null,
      "outputs": []
    }
  ]
}